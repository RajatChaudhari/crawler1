{
 "cells": [
  {
   "cell_type": "code",
   "execution_count": 1,
   "metadata": {},
   "outputs": [],
   "source": [
    "from selenium import webdriver\n",
    "import pandas as pd\n",
    "import numpy as np\n",
    "import bs4\n",
    "import scrapy as sc\n",
    "from scrapy.crawler import CrawlerProcess"
   ]
  },
  {
   "cell_type": "code",
   "execution_count": 2,
   "metadata": {},
   "outputs": [],
   "source": [
    "driver=webdriver.Chrome()\n",
    "#driver1=webdriver.Chrome()\n",
    "#driver2=webdriver.Chrome()\n",
    "#driver3=webdriver.Chrome()"
   ]
  },
  {
   "cell_type": "code",
   "execution_count": 4,
   "metadata": {},
   "outputs": [
    {
     "ename": "NameError",
     "evalue": "name 'driver' is not defined",
     "output_type": "error",
     "traceback": [
      "\u001b[1;31m---------------------------------------------------------------------------\u001b[0m",
      "\u001b[1;31mNameError\u001b[0m                                 Traceback (most recent call last)",
      "\u001b[1;32m<ipython-input-4-59c026d94506>\u001b[0m in \u001b[0;36m<module>\u001b[1;34m()\u001b[0m\n\u001b[1;32m----> 1\u001b[1;33m \u001b[0mdriver\u001b[0m\u001b[1;33m.\u001b[0m\u001b[0mget\u001b[0m\u001b[1;33m(\u001b[0m\u001b[1;34m\"http://mfms.nic.in/\"\u001b[0m\u001b[1;33m)\u001b[0m\u001b[1;33m\u001b[0m\u001b[0m\n\u001b[0m",
      "\u001b[1;31mNameError\u001b[0m: name 'driver' is not defined"
     ]
    }
   ],
   "source": [
    "driver.get(\"http://mfms.nic.in/\")"
   ]
  },
  {
   "cell_type": "code",
   "execution_count": 3,
   "metadata": {},
   "outputs": [],
   "source": [
    "driver.get(\"http://164.100.128.10/mfmsReports/reports\")"
   ]
  },
  {
   "cell_type": "code",
   "execution_count": 10,
   "metadata": {},
   "outputs": [],
   "source": [
    "driver.find_element_by_xpath(\"\"\"//*[@id=\"menu1\"]/li/a\"\"\").click()"
   ]
  },
  {
   "cell_type": "code",
   "execution_count": 19,
   "metadata": {},
   "outputs": [],
   "source": [
    "driver.find_element_by_xpath(\"\"\"/html/body/span/table/tbody/tr[2]/td/table/tbody/tr[3]/td/table/tbody/tr[4]/td/table/tbody/tr/td[1]/table/tbody/tr[10]/td/table/tbody/tr[2]/td[2]/a\"\"\").click()"
   ]
  },
  {
   "cell_type": "code",
   "execution_count": 21,
   "metadata": {},
   "outputs": [],
   "source": [
    "driver.switch_to.window(driver.window_handles[1])\n"
   ]
  },
  {
   "cell_type": "code",
   "execution_count": 22,
   "metadata": {},
   "outputs": [],
   "source": [
    "driver.find_element_by_xpath(\"\"\"//*[@id=\"menu1\"]/li/a\"\"\").click()"
   ]
  },
  {
   "cell_type": "code",
   "execution_count": 24,
   "metadata": {},
   "outputs": [],
   "source": [
    "driver.find_element_by_link_text(\"Analysis Of Retailer Sale\").click()"
   ]
  },
  {
   "cell_type": "code",
   "execution_count": 25,
   "metadata": {},
   "outputs": [],
   "source": [
    "driver.switch_to.window(driver.window_handles[1])"
   ]
  },
  {
   "cell_type": "code",
   "execution_count": 30,
   "metadata": {},
   "outputs": [],
   "source": [
    "driver.find_element_by_id(\"parameterFromDate\").clear()\n",
    "driver.find_element_by_id(\"parameterFromDate\").send_keys(\"01/01/2018\")"
   ]
  },
  {
   "cell_type": "code",
   "execution_count": null,
   "metadata": {},
   "outputs": [],
   "source": [
    "//*[@id=\"right\"]/table[3]"
   ]
  },
  {
   "cell_type": "code",
   "execution_count": null,
   "metadata": {},
   "outputs": [],
   "source": []
  },
  {
   "cell_type": "code",
   "execution_count": 3,
   "metadata": {},
   "outputs": [],
   "source": [
    "driver.get(\"http://164.100.128.10/mfmsReports/getRetailerNotEnteredOsDetail.action\")"
   ]
  },
  {
   "cell_type": "code",
   "execution_count": null,
   "metadata": {},
   "outputs": [],
   "source": []
  },
  {
   "cell_type": "code",
   "execution_count": 2,
   "metadata": {},
   "outputs": [],
   "source": [
    "import scrapy\n",
    "\n",
    "\n",
    "class DeepakSpider(scrapy.Spider):\n",
    "    name = \"Deepak\"\n",
    "    start_urls = [\n",
    "        \"http://164.100.128.10/mfmsReports/reports\",\n",
    "        ]\n",
    "        \n",
    "    def parse(self, response):\n",
    "        for q in response.css('li a::attr(href)').extract():\n",
    "            yield {\n",
    "                'report':q\n",
    "            }\n",
    "        if q is not None:\n",
    "            yield response.follow(q, callback=self.fetch)        \n",
    "\n",
    "    def fetch(self,response):\n",
    "        yield response.css().extract()"
   ]
  },
  {
   "cell_type": "code",
   "execution_count": 3,
   "metadata": {},
   "outputs": [
    {
     "name": "stderr",
     "output_type": "stream",
     "text": [
      "2018-07-09 15:37:33 [scrapy.utils.log] INFO: Scrapy 1.5.0 started (bot: scrapybot)\n",
      "2018-07-09 15:37:34 [scrapy.utils.log] INFO: Versions: lxml 4.1.1.0, libxml2 2.9.8, cssselect 1.0.3, parsel 1.4.0, w3lib 1.19.0, Twisted 17.5.0, Python 3.6.4 |Anaconda, Inc.| (default, Jan 16 2018, 10:22:32) [MSC v.1900 64 bit (AMD64)], pyOpenSSL 17.5.0 (OpenSSL 1.0.2o  27 Mar 2018), cryptography 2.1.4, Platform Windows-10-10.0.14393-SP0\n"
     ]
    }
   ],
   "source": [
    "process = CrawlerProcess({\n",
    "    'USER_AGENT': 'Chrome/4.0 (compatible; MSIE 7.0; Windows NT 5.1)'\n",
    "})"
   ]
  },
  {
   "cell_type": "code",
   "execution_count": 4,
   "metadata": {},
   "outputs": [
    {
     "name": "stderr",
     "output_type": "stream",
     "text": [
      "2018-07-09 15:37:38 [scrapy.crawler] INFO: Overridden settings: {'USER_AGENT': 'Chrome/4.0 (compatible; MSIE 7.0; Windows NT 5.1)'}\n",
      "2018-07-09 15:37:38 [scrapy.middleware] INFO: Enabled extensions:\n",
      "['scrapy.extensions.corestats.CoreStats',\n",
      " 'scrapy.extensions.telnet.TelnetConsole',\n",
      " 'scrapy.extensions.logstats.LogStats']\n",
      "2018-07-09 15:37:38 [scrapy.middleware] INFO: Enabled downloader middlewares:\n",
      "['scrapy.downloadermiddlewares.httpauth.HttpAuthMiddleware',\n",
      " 'scrapy.downloadermiddlewares.downloadtimeout.DownloadTimeoutMiddleware',\n",
      " 'scrapy.downloadermiddlewares.defaultheaders.DefaultHeadersMiddleware',\n",
      " 'scrapy.downloadermiddlewares.useragent.UserAgentMiddleware',\n",
      " 'scrapy.downloadermiddlewares.retry.RetryMiddleware',\n",
      " 'scrapy.downloadermiddlewares.redirect.MetaRefreshMiddleware',\n",
      " 'scrapy.downloadermiddlewares.httpcompression.HttpCompressionMiddleware',\n",
      " 'scrapy.downloadermiddlewares.redirect.RedirectMiddleware',\n",
      " 'scrapy.downloadermiddlewares.cookies.CookiesMiddleware',\n",
      " 'scrapy.downloadermiddlewares.httpproxy.HttpProxyMiddleware',\n",
      " 'scrapy.downloadermiddlewares.stats.DownloaderStats']\n",
      "2018-07-09 15:37:38 [scrapy.middleware] INFO: Enabled spider middlewares:\n",
      "['scrapy.spidermiddlewares.httperror.HttpErrorMiddleware',\n",
      " 'scrapy.spidermiddlewares.offsite.OffsiteMiddleware',\n",
      " 'scrapy.spidermiddlewares.referer.RefererMiddleware',\n",
      " 'scrapy.spidermiddlewares.urllength.UrlLengthMiddleware',\n",
      " 'scrapy.spidermiddlewares.depth.DepthMiddleware']\n",
      "2018-07-09 15:37:38 [scrapy.middleware] INFO: Enabled item pipelines:\n",
      "[]\n",
      "2018-07-09 15:37:38 [scrapy.core.engine] INFO: Spider opened\n",
      "2018-07-09 15:37:38 [scrapy.extensions.logstats] INFO: Crawled 0 pages (at 0 pages/min), scraped 0 items (at 0 items/min)\n",
      "2018-07-09 15:37:38 [scrapy.extensions.telnet] DEBUG: Telnet console listening on 127.0.0.1:6023\n",
      "2018-07-09 15:37:38 [scrapy.core.engine] DEBUG: Crawled (200) <GET http://164.100.128.10/mfmsReports/reports> (referer: None)\n",
      "2018-07-09 15:37:38 [scrapy.core.scraper] DEBUG: Scraped from <200 http://164.100.128.10/mfmsReports/reports>\n",
      "{'report': 'getSaleAvailRept;jsessionid=CC81F2428ED19BBC47DB35DDAE818123.jvm2?finYear=2017-2018'}\n",
      "2018-07-09 15:37:38 [scrapy.core.scraper] DEBUG: Scraped from <200 http://164.100.128.10/mfmsReports/reports>\n",
      "{'report': 'getPOSReportForm;jsessionid=CC81F2428ED19BBC47DB35DDAE818123.jvm2'}\n",
      "2018-07-09 15:37:38 [scrapy.core.scraper] DEBUG: Scraped from <200 http://164.100.128.10/mfmsReports/reports>\n",
      "{'report': 'monthlyFertilizerSalesAmount;jsessionid=CC81F2428ED19BBC47DB35DDAE818123.jvm2'}\n",
      "2018-07-09 15:37:38 [scrapy.core.scraper] DEBUG: Scraped from <200 http://164.100.128.10/mfmsReports/reports>\n",
      "{'report': 'farmerBuying;jsessionid=CC81F2428ED19BBC47DB35DDAE818123.jvm2'}\n",
      "2018-07-09 15:37:38 [scrapy.core.scraper] DEBUG: Scraped from <200 http://164.100.128.10/mfmsReports/reports>\n",
      "{'report': 'getsalereportofperiod;jsessionid=CC81F2428ED19BBC47DB35DDAE818123.jvm2'}\n",
      "2018-07-09 15:37:38 [scrapy.core.scraper] DEBUG: Scraped from <200 http://164.100.128.10/mfmsReports/reports>\n",
      "{'report': 'getRetailerNotEnteredOs;jsessionid=CC81F2428ED19BBC47DB35DDAE818123.jvm2'}\n",
      "2018-07-09 15:37:38 [scrapy.core.scraper] DEBUG: Scraped from <200 http://164.100.128.10/mfmsReports/reports>\n",
      "{'report': 'getRetailerAfterEnteredOsByDate;jsessionid=CC81F2428ED19BBC47DB35DDAE818123.jvm2'}\n",
      "2018-07-09 15:37:39 [scrapy.core.engine] DEBUG: Crawled (200) <GET http://164.100.128.10/mfmsReports/getRetailerAfterEnteredOsByDate;jsessionid=CC81F2428ED19BBC47DB35DDAE818123.jvm2> (referer: http://164.100.128.10/mfmsReports/reports)\n",
      "2018-07-09 15:37:39 [scrapy.core.scraper] ERROR: Spider error processing <GET http://164.100.128.10/mfmsReports/getRetailerAfterEnteredOsByDate;jsessionid=CC81F2428ED19BBC47DB35DDAE818123.jvm2> (referer: http://164.100.128.10/mfmsReports/reports)\n",
      "Traceback (most recent call last):\n",
      "  File \"D:\\product\\Anaconda\\lib\\site-packages\\scrapy\\utils\\defer.py\", line 102, in iter_errback\n",
      "    yield next(it)\n",
      "  File \"D:\\product\\Anaconda\\lib\\site-packages\\scrapy\\spidermiddlewares\\offsite.py\", line 30, in process_spider_output\n",
      "    for x in result:\n",
      "  File \"D:\\product\\Anaconda\\lib\\site-packages\\scrapy\\spidermiddlewares\\referer.py\", line 339, in <genexpr>\n",
      "    return (_set_referer(r) for r in result or ())\n",
      "  File \"D:\\product\\Anaconda\\lib\\site-packages\\scrapy\\spidermiddlewares\\urllength.py\", line 37, in <genexpr>\n",
      "    return (r for r in result or () if _filter(r))\n",
      "  File \"D:\\product\\Anaconda\\lib\\site-packages\\scrapy\\spidermiddlewares\\depth.py\", line 58, in <genexpr>\n",
      "    return (r for r in result or () if _filter(r))\n",
      "  File \"<ipython-input-2-f8ef1e006c8d>\", line 19, in fetch\n",
      "    yield response.css().extract()\n",
      "TypeError: css() missing 1 required positional argument: 'query'\n",
      "2018-07-09 15:37:39 [scrapy.core.engine] INFO: Closing spider (finished)\n",
      "2018-07-09 15:37:39 [scrapy.statscollectors] INFO: Dumping Scrapy stats:\n",
      "{'downloader/request_bytes': 677,\n",
      " 'downloader/request_count': 2,\n",
      " 'downloader/request_method_count/GET': 2,\n",
      " 'downloader/response_bytes': 26043,\n",
      " 'downloader/response_count': 2,\n",
      " 'downloader/response_status_count/200': 2,\n",
      " 'finish_reason': 'finished',\n",
      " 'finish_time': datetime.datetime(2018, 7, 9, 10, 7, 39, 343854),\n",
      " 'item_scraped_count': 7,\n",
      " 'log_count/DEBUG': 10,\n",
      " 'log_count/ERROR': 1,\n",
      " 'log_count/INFO': 7,\n",
      " 'request_depth_max': 1,\n",
      " 'response_received_count': 2,\n",
      " 'scheduler/dequeued': 2,\n",
      " 'scheduler/dequeued/memory': 2,\n",
      " 'scheduler/enqueued': 2,\n",
      " 'scheduler/enqueued/memory': 2,\n",
      " 'spider_exceptions/TypeError': 1,\n",
      " 'start_time': datetime.datetime(2018, 7, 9, 10, 7, 38, 431389)}\n",
      "2018-07-09 15:37:39 [scrapy.core.engine] INFO: Spider closed (finished)\n"
     ]
    }
   ],
   "source": [
    "process.crawl(DeepakSpider)\n",
    "process.start()"
   ]
  },
  {
   "cell_type": "code",
   "execution_count": 11,
   "metadata": {},
   "outputs": [
    {
     "ename": "SyntaxError",
     "evalue": "invalid syntax (<ipython-input-11-9c1951300254>, line 1)",
     "output_type": "error",
     "traceback": [
      "\u001b[1;36m  File \u001b[1;32m\"<ipython-input-11-9c1951300254>\"\u001b[1;36m, line \u001b[1;32m1\u001b[0m\n\u001b[1;33m    scrapy scrapy.shell 'http://164.100.128.10/mfmsReports/reports'\u001b[0m\n\u001b[1;37m                ^\u001b[0m\n\u001b[1;31mSyntaxError\u001b[0m\u001b[1;31m:\u001b[0m invalid syntax\n"
     ]
    }
   ],
   "source": [
    "scrapy sc. 'http://164.100.128.10/mfmsReports/reports'"
   ]
  },
  {
   "cell_type": "code",
   "execution_count": 8,
   "metadata": {},
   "outputs": [
    {
     "data": {
      "text/plain": [
       "<DeferredList at 0x2a5b1dcf588 current result: []>"
      ]
     },
     "execution_count": 8,
     "metadata": {},
     "output_type": "execute_result"
    }
   ],
   "source": []
  },
  {
   "cell_type": "code",
   "execution_count": null,
   "metadata": {},
   "outputs": [],
   "source": []
  },
  {
   "cell_type": "code",
   "execution_count": null,
   "metadata": {},
   "outputs": [],
   "source": []
  },
  {
   "cell_type": "code",
   "execution_count": null,
   "metadata": {},
   "outputs": [],
   "source": []
  }
 ],
 "metadata": {
  "kernelspec": {
   "display_name": "Python 3",
   "language": "python",
   "name": "python3"
  },
  "language_info": {
   "codemirror_mode": {
    "name": "ipython",
    "version": 3
   },
   "file_extension": ".py",
   "mimetype": "text/x-python",
   "name": "python",
   "nbconvert_exporter": "python",
   "pygments_lexer": "ipython3",
   "version": "3.6.4"
  }
 },
 "nbformat": 4,
 "nbformat_minor": 2
}
